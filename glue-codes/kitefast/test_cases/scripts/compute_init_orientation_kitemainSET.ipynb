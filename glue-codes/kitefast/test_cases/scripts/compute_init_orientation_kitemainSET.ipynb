{
 "cells": [
  {
   "cell_type": "code",
   "execution_count": 2,
   "metadata": {},
   "outputs": [
    {
     "name": "stdout",
     "output_type": "stream",
     "text": [
      "1.3.0.dev0+6229c57\n",
      "[[ 0.86101738 -0.23492066 -0.4510669 ]\n",
      " [ 0.1191939  -0.76900657  0.62803003]\n",
      " [-0.49441064 -0.59450919 -0.63412691]]\n",
      "yaw pitch roll initial angle [deg]:\n"
     ]
    }
   ],
   "source": [
    "#!!!!!REQUIRES scipy>1.3.0.dev0+47976a8\n",
    "#Also, comment out the following code in scipy/spatial/transform/rotation.py:\n",
    "#In the as_rotvec function comment out:\n",
    "#>>>  quat[quat[:, 3] < 0.0] *= -1  <<<\n",
    "#This avoids flips in the orientation of the rotation vectors (MBdyn does not like this).\n",
    "import scipy\n",
    "from scipy.spatial.transform import Rotation as R\n",
    "#print your scipy version\n",
    "print(scipy.__version__)\n",
    "import os\n",
    "import numpy as np\n",
    "\n",
    "\n",
    "vec_r=np.zeros([3])\n",
    "vec_r[0]=-2.35315059695693\n",
    "vec_r[1]=0.083428277835795\n",
    "vec_r[2]=0.681601775198816\n",
    "\n",
    "#computing the DCMs used to initialize the MBDyn model\n",
    "r1=R.from_rotvec(vec_r)\n",
    "dcm_mat=r1.as_dcm()\n",
    "#The columns shown here are the body CS system unity vectors in the global CS\n",
    "print(dcm_mat)\n",
    "\n",
    "\n"
   ]
  },
  {
   "cell_type": "code",
   "execution_count": null,
   "metadata": {},
   "outputs": [],
   "source": []
  }
 ],
 "metadata": {
  "kernelspec": {
   "display_name": "Python 3",
   "language": "python",
   "name": "python3"
  },
  "language_info": {
   "codemirror_mode": {
    "name": "ipython",
    "version": 3
   },
   "file_extension": ".py",
   "mimetype": "text/x-python",
   "name": "python",
   "nbconvert_exporter": "python",
   "pygments_lexer": "ipython3",
   "version": "3.5.3"
  }
 },
 "nbformat": 4,
 "nbformat_minor": 2
}
