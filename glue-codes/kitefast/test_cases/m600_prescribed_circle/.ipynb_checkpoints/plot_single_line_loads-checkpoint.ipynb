{
 "cells": [
  {
   "cell_type": "code",
   "execution_count": 1,
   "metadata": {
    "scrolled": true
   },
   "outputs": [],
   "source": [
    "#set a few things before running the analysis\n",
    "\n",
    "#number of segments in lines\n",
    "num_segs_line1=15\n",
    "\n",
    "\n",
    "#column location of roll pitch yaw rotation in KiteFAST.out\n",
    "roll_col=1\n",
    "pitch_col=2\n",
    "yaw_col=3\n",
    "\n",
    "#column location of Fx,FY,FZ (global integrated aero loads) in the KiteFAST.out\n",
    "kf_fx_col=4\n",
    "kf_fy_col=5\n",
    "kf_fz_col=6\n"
   ]
  },
  {
   "cell_type": "code",
   "execution_count": 2,
   "metadata": {},
   "outputs": [],
   "source": [
    "import pandas as pd\n",
    "import matplotlib.pyplot as plt\n",
    "import numpy as np\n",
    "from scipy.spatial.transform import Rotation as R\n",
    "import matplotlib.pyplot as plt\n",
    "\n",
    "#Analyzing the KiteTether forces\n",
    "\n",
    "#load the line geometry files\n",
    "line1_geo_pd=pd.read_csv('KiteFast.MD.MD.Line1.out',skiprows=2,delim_whitespace=True)\n",
    "line1_geo=line1_geo_pd.values\n",
    "\n",
    "\n",
    "#load the force MD force measurements\n",
    "MD_loads_pd=pd.read_csv('KiteFast.MD.MD.out',skiprows=2,delim_whitespace=True)\n",
    "MD_loads=MD_loads_pd.values\n",
    "\n",
    "#load the KiteFAST output file\n",
    "KF_pd=pd.read_csv('KiteFast.out',skiprows=7,delim_whitespace=True)\n",
    "KF=KF_pd.values\n",
    "\n",
    "#load the CSim results\n",
    "xls = pd.ExcelFile(\"CSim_output_noturb_20181204.xlsx\")\n",
    "sheetX = xls.parse(0) #this the sheet number\n",
    "CStime = sheetX['time']\n",
    "CSimFX = sheetX['wing_fx']\n",
    "CSimFY = sheetX['wing_fy']\n",
    "CSimFZ = sheetX['wing_fz']\n",
    "CSimFXaero = sheetX['tether_fx']\n",
    "CSimFYaero = sheetX['tether_fy']\n",
    "CSimFZaero = sheetX['tether_fz']\n",
    "CSimFaxS = sheetX['loadcell_P_A']\n",
    "CSimFaxP = sheetX['loadcell_S_A']\n",
    "CSimFXAER = sheetX['wing_aero_fx']\n",
    "CSimFYAER = sheetX['wing_aero_fy']\n",
    "CSimFZAER = sheetX['wing_aero_fz']\n",
    "\n",
    "\n",
    "lc_min=min(line1_geo.shape[0], MD_loads.shape[0])\n",
    "#lc_min=100\n",
    "\n",
    "tether_force_local_report=np.zeros([lc_min+1,4])\n",
    "aero_force_local_report=np.zeros([lc_min+1,4])\n",
    "\n",
    "#compute the FX,FY and FZ components for each line at each time step\n",
    "lc=-1\n",
    "while lc<(lc_min-1):\n",
    "    lc=lc+1\n",
    "    cur_time=MD_loads[lc,0]\n",
    "\n",
    "    \n",
    "    #get the current euler angles from the KF output\n",
    "    roll_ang=np.interp(cur_time, KF[:,0], KF[:,roll_col])\n",
    "    pitch_ang=np.interp(cur_time, KF[:,0], KF[:,pitch_col])\n",
    "    yaw_ang=np.interp(cur_time, KF[:,0], KF[:,yaw_col])\n",
    "    \n",
    "    #get the integrated aero loads (global coordinate system) from the KF output \n",
    "    fx_aerog=np.interp(cur_time, KF[:,0], KF[:,kf_fx_col])\n",
    "    fy_aerog=np.interp(cur_time, KF[:,0], KF[:,kf_fy_col])\n",
    "    fz_aerog=np.interp(cur_time, KF[:,0], KF[:,kf_fz_col])\n",
    "    \n",
    "    #compute DCM from euler angles\n",
    "    r = R.from_euler('XYZ', [roll_ang, pitch_ang, yaw_ang], degrees=True)\n",
    "    dcm=r.as_dcm()\n",
    "    \n",
    "\n",
    "    #transform the integrated aero loads to the kite coordinate system\n",
    "    global_aero_force=np.matrix([fx_aerog, fy_aerog, fz_aerog])\n",
    "    local_aero_force=np.matmul(np.transpose(dcm),np.transpose(global_aero_force))\n",
    "    aero_force_local_report[lc,0]=cur_time\n",
    "    aero_force_local_report[lc,1]=local_aero_force[0]\n",
    "    aero_force_local_report[lc,2]=local_aero_force[1]\n",
    "    aero_force_local_report[lc,3]=local_aero_force[2]\n",
    "    \n"
   ]
  },
  {
   "cell_type": "code",
   "execution_count": 12,
   "metadata": {},
   "outputs": [
    {
     "data": {
      "image/png": "[encoded data removed]",
      "text/plain": [
       "<Figure size 432x288 with 1 Axes>"
      ]
     },
     "metadata": {
      "needs_background": "light"
     },
     "output_type": "display_data"
    }
   ],
   "source": [
    "#plot the tether loads \n",
    "%matplotlib inline\n",
    "plt.plot(MD_loads[:,0],MD_loads[:,2]+MD_loads[:,3],label='fairlead load sum')\n",
    "plt.legend()\n",
    "plt.title('Comparison of Tether Loads (kite coordinate system)')\n",
    "plt.ylabel('Force [N]')\n",
    "plt.xlabel('Time [s]')\n",
    "plt.xlim([0.0, 20.0])\n",
    "plt.ylim([0, 500E3])\n",
    "plt.show()"
   ]
  },
  {
   "cell_type": "code",
   "execution_count": null,
   "metadata": {},
   "outputs": [],
   "source": []
  }
 ],
 "metadata": {
  "kernelspec": {
   "display_name": "Python 3",
   "language": "python",
   "name": "python3"
  },
  "language_info": {
   "codemirror_mode": {
    "name": "ipython",
    "version": 3
   },
   "file_extension": ".py",
   "mimetype": "text/x-python",
   "name": "python",
   "nbconvert_exporter": "python",
   "pygments_lexer": "ipython3",
   "version": "3.5.3"
  }
 },
 "nbformat": 4,
 "nbformat_minor": 2
}
